{
 "metadata": {
  "language_info": {
   "codemirror_mode": {
    "name": "ipython",
    "version": 3
   },
   "file_extension": ".py",
   "mimetype": "text/x-python",
   "name": "python",
   "nbconvert_exporter": "python",
   "pygments_lexer": "ipython3",
   "version": "3.7.8-final"
  },
  "orig_nbformat": 2,
  "kernelspec": {
   "name": "python3",
   "display_name": "Python 3",
   "language": "python"
  }
 },
 "nbformat": 4,
 "nbformat_minor": 2,
 "cells": [
  {
   "source": [
    "# ANZ Data Virtual Internship - Task 1"
   ],
   "cell_type": "markdown",
   "metadata": {}
  },
  {
   "cell_type": "code",
   "execution_count": 1,
   "metadata": {},
   "outputs": [],
   "source": [
    "# Imports\n",
    "import pandas as pd\n",
    "import numpy as np \n",
    "import seaborn as sns\n",
    "\n",
    "#Pandas settings\n",
    "pd.set_option('display.max_columns', None)\n",
    "pd.set_option('display.max_rows', None)"
   ]
  },
  {
   "source": [
    "## Data Importing and Exploratory Data Analysis"
   ],
   "cell_type": "markdown",
   "metadata": {}
  },
  {
   "cell_type": "code",
   "execution_count": 2,
   "metadata": {},
   "outputs": [
    {
     "output_type": "execute_result",
     "data": {
      "text/plain": [
       "       status  card_present_flag bpay_biller_code         account currency  \\\n",
       "0  authorized                1.0              NaN  ACC-1598451071      AUD   \n",
       "1  authorized                0.0              NaN  ACC-1598451071      AUD   \n",
       "2  authorized                1.0              NaN  ACC-1222300524      AUD   \n",
       "3  authorized                1.0              NaN  ACC-1037050564      AUD   \n",
       "4  authorized                1.0              NaN  ACC-1598451071      AUD   \n",
       "\n",
       "        long_lat txn_description                           merchant_id  \\\n",
       "0  153.41 -27.95             POS  81c48296-73be-44a7-befa-d053f48ce7cd   \n",
       "1  153.41 -27.95       SALES-POS  830a451c-316e-4a6a-bf25-e37caedca49e   \n",
       "2  151.23 -33.94             POS  835c231d-8cdf-4e96-859d-e9d571760cf0   \n",
       "3  153.10 -27.66       SALES-POS  48514682-c78a-4a88-b0da-2d6302e64673   \n",
       "4  153.41 -27.95       SALES-POS  b4e02c10-0852-4273-b8fd-7b3395e32eb0   \n",
       "\n",
       "   merchant_code first_name  balance    date gender  age merchant_suburb  \\\n",
       "0            NaN      Diana    35.39  1/8/18      F   26         Ashmore   \n",
       "1            NaN      Diana    21.20  1/8/18      F   26          Sydney   \n",
       "2            NaN    Michael     5.71  1/8/18      M   38          Sydney   \n",
       "3            NaN     Rhonda  2117.22  1/8/18      F   40         Buderim   \n",
       "4            NaN      Diana    17.95  1/8/18      F   26   Mermaid Beach   \n",
       "\n",
       "  merchant_state                    extraction  amount  \\\n",
       "0            QLD  2018-08-01T01:01:15.000+0000   16.25   \n",
       "1            NSW  2018-08-01T01:13:45.000+0000   14.19   \n",
       "2            NSW  2018-08-01T01:26:15.000+0000    6.42   \n",
       "3            QLD  2018-08-01T01:38:45.000+0000   40.90   \n",
       "4            QLD  2018-08-01T01:51:15.000+0000    3.25   \n",
       "\n",
       "                     transaction_id    country     customer_id  \\\n",
       "0  a623070bfead4541a6b0fff8a09e706c  Australia  CUS-2487424745   \n",
       "1  13270a2a902145da9db4c951e04b51b9  Australia  CUS-2487424745   \n",
       "2  feb79e7ecd7048a5a36ec889d1a94270  Australia  CUS-2142601169   \n",
       "3  2698170da3704fd981b15e64a006079e  Australia  CUS-1614226872   \n",
       "4  329adf79878c4cf0aeb4188b4691c266  Australia  CUS-2487424745   \n",
       "\n",
       "  merchant_long_lat movement  \n",
       "0     153.38 -27.99    debit  \n",
       "1     151.21 -33.87    debit  \n",
       "2     151.21 -33.87    debit  \n",
       "3     153.05 -26.68    debit  \n",
       "4     153.44 -28.06    debit  "
      ],
      "text/html": "<div>\n<style scoped>\n    .dataframe tbody tr th:only-of-type {\n        vertical-align: middle;\n    }\n\n    .dataframe tbody tr th {\n        vertical-align: top;\n    }\n\n    .dataframe thead th {\n        text-align: right;\n    }\n</style>\n<table border=\"1\" class=\"dataframe\">\n  <thead>\n    <tr style=\"text-align: right;\">\n      <th></th>\n      <th>status</th>\n      <th>card_present_flag</th>\n      <th>bpay_biller_code</th>\n      <th>account</th>\n      <th>currency</th>\n      <th>long_lat</th>\n      <th>txn_description</th>\n      <th>merchant_id</th>\n      <th>merchant_code</th>\n      <th>first_name</th>\n      <th>balance</th>\n      <th>date</th>\n      <th>gender</th>\n      <th>age</th>\n      <th>merchant_suburb</th>\n      <th>merchant_state</th>\n      <th>extraction</th>\n      <th>amount</th>\n      <th>transaction_id</th>\n      <th>country</th>\n      <th>customer_id</th>\n      <th>merchant_long_lat</th>\n      <th>movement</th>\n    </tr>\n  </thead>\n  <tbody>\n    <tr>\n      <th>0</th>\n      <td>authorized</td>\n      <td>1.0</td>\n      <td>NaN</td>\n      <td>ACC-1598451071</td>\n      <td>AUD</td>\n      <td>153.41 -27.95</td>\n      <td>POS</td>\n      <td>81c48296-73be-44a7-befa-d053f48ce7cd</td>\n      <td>NaN</td>\n      <td>Diana</td>\n      <td>35.39</td>\n      <td>1/8/18</td>\n      <td>F</td>\n      <td>26</td>\n      <td>Ashmore</td>\n      <td>QLD</td>\n      <td>2018-08-01T01:01:15.000+0000</td>\n      <td>16.25</td>\n      <td>a623070bfead4541a6b0fff8a09e706c</td>\n      <td>Australia</td>\n      <td>CUS-2487424745</td>\n      <td>153.38 -27.99</td>\n      <td>debit</td>\n    </tr>\n    <tr>\n      <th>1</th>\n      <td>authorized</td>\n      <td>0.0</td>\n      <td>NaN</td>\n      <td>ACC-1598451071</td>\n      <td>AUD</td>\n      <td>153.41 -27.95</td>\n      <td>SALES-POS</td>\n      <td>830a451c-316e-4a6a-bf25-e37caedca49e</td>\n      <td>NaN</td>\n      <td>Diana</td>\n      <td>21.20</td>\n      <td>1/8/18</td>\n      <td>F</td>\n      <td>26</td>\n      <td>Sydney</td>\n      <td>NSW</td>\n      <td>2018-08-01T01:13:45.000+0000</td>\n      <td>14.19</td>\n      <td>13270a2a902145da9db4c951e04b51b9</td>\n      <td>Australia</td>\n      <td>CUS-2487424745</td>\n      <td>151.21 -33.87</td>\n      <td>debit</td>\n    </tr>\n    <tr>\n      <th>2</th>\n      <td>authorized</td>\n      <td>1.0</td>\n      <td>NaN</td>\n      <td>ACC-1222300524</td>\n      <td>AUD</td>\n      <td>151.23 -33.94</td>\n      <td>POS</td>\n      <td>835c231d-8cdf-4e96-859d-e9d571760cf0</td>\n      <td>NaN</td>\n      <td>Michael</td>\n      <td>5.71</td>\n      <td>1/8/18</td>\n      <td>M</td>\n      <td>38</td>\n      <td>Sydney</td>\n      <td>NSW</td>\n      <td>2018-08-01T01:26:15.000+0000</td>\n      <td>6.42</td>\n      <td>feb79e7ecd7048a5a36ec889d1a94270</td>\n      <td>Australia</td>\n      <td>CUS-2142601169</td>\n      <td>151.21 -33.87</td>\n      <td>debit</td>\n    </tr>\n    <tr>\n      <th>3</th>\n      <td>authorized</td>\n      <td>1.0</td>\n      <td>NaN</td>\n      <td>ACC-1037050564</td>\n      <td>AUD</td>\n      <td>153.10 -27.66</td>\n      <td>SALES-POS</td>\n      <td>48514682-c78a-4a88-b0da-2d6302e64673</td>\n      <td>NaN</td>\n      <td>Rhonda</td>\n      <td>2117.22</td>\n      <td>1/8/18</td>\n      <td>F</td>\n      <td>40</td>\n      <td>Buderim</td>\n      <td>QLD</td>\n      <td>2018-08-01T01:38:45.000+0000</td>\n      <td>40.90</td>\n      <td>2698170da3704fd981b15e64a006079e</td>\n      <td>Australia</td>\n      <td>CUS-1614226872</td>\n      <td>153.05 -26.68</td>\n      <td>debit</td>\n    </tr>\n    <tr>\n      <th>4</th>\n      <td>authorized</td>\n      <td>1.0</td>\n      <td>NaN</td>\n      <td>ACC-1598451071</td>\n      <td>AUD</td>\n      <td>153.41 -27.95</td>\n      <td>SALES-POS</td>\n      <td>b4e02c10-0852-4273-b8fd-7b3395e32eb0</td>\n      <td>NaN</td>\n      <td>Diana</td>\n      <td>17.95</td>\n      <td>1/8/18</td>\n      <td>F</td>\n      <td>26</td>\n      <td>Mermaid Beach</td>\n      <td>QLD</td>\n      <td>2018-08-01T01:51:15.000+0000</td>\n      <td>3.25</td>\n      <td>329adf79878c4cf0aeb4188b4691c266</td>\n      <td>Australia</td>\n      <td>CUS-2487424745</td>\n      <td>153.44 -28.06</td>\n      <td>debit</td>\n    </tr>\n  </tbody>\n</table>\n</div>"
     },
     "metadata": {},
     "execution_count": 2
    }
   ],
   "source": [
    "# read in csv file \n",
    "data = pd.read_csv('ANZ_synthesised_transaction_dataset.csv')\n",
    "# display head\n",
    "data.head()"
   ]
  },
  {
   "cell_type": "code",
   "execution_count": 3,
   "metadata": {},
   "outputs": [
    {
     "output_type": "execute_result",
     "data": {
      "text/plain": [
       "(12043, 23)"
      ]
     },
     "metadata": {},
     "execution_count": 3
    }
   ],
   "source": [
    "data.shape"
   ]
  },
  {
   "cell_type": "code",
   "execution_count": 4,
   "metadata": {},
   "outputs": [
    {
     "output_type": "execute_result",
     "data": {
      "text/plain": [
       "       card_present_flag  merchant_code        balance           age  \\\n",
       "count        7717.000000          883.0   12043.000000  12043.000000   \n",
       "mean            0.802644            0.0   14704.195553     30.582330   \n",
       "std             0.398029            0.0   31503.722652     10.046343   \n",
       "min             0.000000            0.0       0.240000     18.000000   \n",
       "25%             1.000000            0.0    3158.585000     22.000000   \n",
       "50%             1.000000            0.0    6432.010000     28.000000   \n",
       "75%             1.000000            0.0   12465.945000     38.000000   \n",
       "max             1.000000            0.0  267128.520000     78.000000   \n",
       "\n",
       "             amount  \n",
       "count  12043.000000  \n",
       "mean     187.933588  \n",
       "std      592.599934  \n",
       "min        0.100000  \n",
       "25%       16.000000  \n",
       "50%       29.000000  \n",
       "75%       53.655000  \n",
       "max     8835.980000  "
      ],
      "text/html": "<div>\n<style scoped>\n    .dataframe tbody tr th:only-of-type {\n        vertical-align: middle;\n    }\n\n    .dataframe tbody tr th {\n        vertical-align: top;\n    }\n\n    .dataframe thead th {\n        text-align: right;\n    }\n</style>\n<table border=\"1\" class=\"dataframe\">\n  <thead>\n    <tr style=\"text-align: right;\">\n      <th></th>\n      <th>card_present_flag</th>\n      <th>merchant_code</th>\n      <th>balance</th>\n      <th>age</th>\n      <th>amount</th>\n    </tr>\n  </thead>\n  <tbody>\n    <tr>\n      <th>count</th>\n      <td>7717.000000</td>\n      <td>883.0</td>\n      <td>12043.000000</td>\n      <td>12043.000000</td>\n      <td>12043.000000</td>\n    </tr>\n    <tr>\n      <th>mean</th>\n      <td>0.802644</td>\n      <td>0.0</td>\n      <td>14704.195553</td>\n      <td>30.582330</td>\n      <td>187.933588</td>\n    </tr>\n    <tr>\n      <th>std</th>\n      <td>0.398029</td>\n      <td>0.0</td>\n      <td>31503.722652</td>\n      <td>10.046343</td>\n      <td>592.599934</td>\n    </tr>\n    <tr>\n      <th>min</th>\n      <td>0.000000</td>\n      <td>0.0</td>\n      <td>0.240000</td>\n      <td>18.000000</td>\n      <td>0.100000</td>\n    </tr>\n    <tr>\n      <th>25%</th>\n      <td>1.000000</td>\n      <td>0.0</td>\n      <td>3158.585000</td>\n      <td>22.000000</td>\n      <td>16.000000</td>\n    </tr>\n    <tr>\n      <th>50%</th>\n      <td>1.000000</td>\n      <td>0.0</td>\n      <td>6432.010000</td>\n      <td>28.000000</td>\n      <td>29.000000</td>\n    </tr>\n    <tr>\n      <th>75%</th>\n      <td>1.000000</td>\n      <td>0.0</td>\n      <td>12465.945000</td>\n      <td>38.000000</td>\n      <td>53.655000</td>\n    </tr>\n    <tr>\n      <th>max</th>\n      <td>1.000000</td>\n      <td>0.0</td>\n      <td>267128.520000</td>\n      <td>78.000000</td>\n      <td>8835.980000</td>\n    </tr>\n  </tbody>\n</table>\n</div>"
     },
     "metadata": {},
     "execution_count": 4
    }
   ],
   "source": [
    "data.describe() #Perform basic summary stats on numeric columns"
   ]
  },
  {
   "source": [
    "Noting above that the pd.describe displays float and integer objects only, this means many other columns are encoded as objects. The below code calls upon df.dtypes to determine the types of values in each column."
   ],
   "cell_type": "markdown",
   "metadata": {}
  },
  {
   "cell_type": "code",
   "execution_count": 5,
   "metadata": {},
   "outputs": [
    {
     "output_type": "execute_result",
     "data": {
      "text/plain": [
       "status                object\n",
       "card_present_flag    float64\n",
       "bpay_biller_code      object\n",
       "account               object\n",
       "currency              object\n",
       "long_lat              object\n",
       "txn_description       object\n",
       "merchant_id           object\n",
       "merchant_code        float64\n",
       "first_name            object\n",
       "balance              float64\n",
       "date                  object\n",
       "gender                object\n",
       "age                    int64\n",
       "merchant_suburb       object\n",
       "merchant_state        object\n",
       "extraction            object\n",
       "amount               float64\n",
       "transaction_id        object\n",
       "country               object\n",
       "customer_id           object\n",
       "merchant_long_lat     object\n",
       "movement              object\n",
       "dtype: object"
      ]
     },
     "metadata": {},
     "execution_count": 5
    }
   ],
   "source": [
    "data.dtypes"
   ]
  },
  {
   "cell_type": "code",
   "execution_count": 6,
   "metadata": {},
   "outputs": [
    {
     "output_type": "execute_result",
     "data": {
      "text/plain": [
       "status                   2\n",
       "card_present_flag        2\n",
       "bpay_biller_code         3\n",
       "account                100\n",
       "currency                 1\n",
       "long_lat               100\n",
       "txn_description          6\n",
       "merchant_id           5725\n",
       "merchant_code            1\n",
       "first_name              80\n",
       "balance              12006\n",
       "date                    91\n",
       "gender                   2\n",
       "age                     33\n",
       "merchant_suburb       1609\n",
       "merchant_state           8\n",
       "extraction            9442\n",
       "amount                4457\n",
       "transaction_id       12043\n",
       "country                  1\n",
       "customer_id            100\n",
       "merchant_long_lat     2703\n",
       "movement                 2\n",
       "dtype: int64"
      ]
     },
     "metadata": {},
     "execution_count": 6
    }
   ],
   "source": [
    "data.nunique() # Determines the number of unique values per column"
   ]
  },
  {
   "source": [
    "The above code shows us that as per the description we do indeed have 100 customers data based off 100 unique values for the accounts column."
   ],
   "cell_type": "markdown",
   "metadata": {}
  },
  {
   "cell_type": "code",
   "execution_count": 7,
   "metadata": {},
   "outputs": [
    {
     "output_type": "execute_result",
     "data": {
      "text/plain": [
       "status                   0\n",
       "card_present_flag     4326\n",
       "bpay_biller_code     11158\n",
       "account                  0\n",
       "currency                 0\n",
       "long_lat                 0\n",
       "txn_description          0\n",
       "merchant_id           4326\n",
       "merchant_code        11160\n",
       "first_name               0\n",
       "balance                  0\n",
       "date                     0\n",
       "gender                   0\n",
       "age                      0\n",
       "merchant_suburb       4326\n",
       "merchant_state        4326\n",
       "extraction               0\n",
       "amount                   0\n",
       "transaction_id           0\n",
       "country                  0\n",
       "customer_id              0\n",
       "merchant_long_lat     4326\n",
       "movement                 0\n",
       "dtype: int64"
      ]
     },
     "metadata": {},
     "execution_count": 7
    }
   ],
   "source": [
    "data.isnull().sum() # counts the number of null values for each column"
   ]
  },
  {
   "cell_type": "code",
   "execution_count": 8,
   "metadata": {},
   "outputs": [
    {
     "output_type": "stream",
     "name": "stdout",
     "text": [
      "Percentage of missing values:\n\nColumn status has 0.00% missing values\nColumn card_present_flag has 35.92% missing values\nColumn bpay_biller_code has 92.65% missing values\nColumn account has 0.00% missing values\nColumn currency has 0.00% missing values\nColumn long_lat has 0.00% missing values\nColumn txn_description has 0.00% missing values\nColumn merchant_id has 35.92% missing values\nColumn merchant_code has 92.67% missing values\nColumn first_name has 0.00% missing values\nColumn balance has 0.00% missing values\nColumn date has 0.00% missing values\nColumn gender has 0.00% missing values\nColumn age has 0.00% missing values\nColumn merchant_suburb has 35.92% missing values\nColumn merchant_state has 35.92% missing values\nColumn extraction has 0.00% missing values\nColumn amount has 0.00% missing values\nColumn transaction_id has 0.00% missing values\nColumn country has 0.00% missing values\nColumn customer_id has 0.00% missing values\nColumn merchant_long_lat has 35.92% missing values\nColumn movement has 0.00% missing values\n"
     ]
    }
   ],
   "source": [
    "# Check the percentage of missing values per column\n",
    "print(\"Percentage of missing values:\")\n",
    "print()\n",
    "for column in data.columns:\n",
    "    print(f'Column {column} has'\n",
    "          f' {100 * sum(data[column].isna()) / len(data):.2f}%'\n",
    "          f' missing values')"
   ]
  },
  {
   "source": [
    "Based off the above code, we have significant numbers of null values in the dataset. However considering this is transactional data:\n",
    "\n",
    "    1. Not all payments were via Bpay - hence we have a lack of values in bpay_biller_code\n",
    "    2. We have 4326 missing values in the card_present_flag, merchant_id, merchant_suburb, merchant_state and   merchant_long_lat columns. This could be due to the card not being present at the time of transaction (online or manual purchases) or for another reason entirely.\n",
    "    3. We are missing a lot of data in the merchant_code column (~92%). This could be due to most transctions (~92%) are not Bpay transactions and will hence not have a merchant code. As such we should remove this column alongside the bpay_biller_code column."
   ],
   "cell_type": "markdown",
   "metadata": {}
  },
  {
   "source": [
    "## Data Cleaning"
   ],
   "cell_type": "markdown",
   "metadata": {}
  },
  {
   "cell_type": "code",
   "execution_count": 9,
   "metadata": {},
   "outputs": [],
   "source": [
    "# assign to clean data frame variable\n",
    "data_clean = data\n",
    "\n",
    "# split up lat_long column into lat and long for ease of plotting later\n",
    "data_clean[['long','lat']] = data_clean['long_lat'].str.split(' ', expand=True)\n",
    "\n",
    "# split up merchant long_lat into lat and long for ease of plotting later\n",
    "data_clean[['merchant_long','merchant_lat']] = data_clean['merchant_long_lat'].str.split(' ', expand=True)\n",
    "#data_clean.head() # Sanity check"
   ]
  },
  {
   "cell_type": "code",
   "execution_count": 10,
   "metadata": {},
   "outputs": [],
   "source": [
    "# drop columns missing signifcant amounts of data / unneeded columns:\n",
    "\n",
    "# 1. merchant_code - missing data (see above)\n",
    "# 2. currency - all in AUD in this dataset (based off unique values)\n",
    "# 3. country - all in Australia in this dataset (based off unique values)\n",
    "# 4. long_lat - not needed after split above\n",
    "# 5. merchant_long_lat - not needed after split above\n",
    "data_clean = data_clean.drop(['merchant_code','currency', 'country', 'long_lat','merchant_long_lat', 'bpay_biller_code'], axis=1)"
   ]
  },
  {
   "cell_type": "code",
   "execution_count": 11,
   "metadata": {},
   "outputs": [],
   "source": [
    "# Change dtypes to numeric for all latitude and longitude columns\n",
    "data_clean = data_clean.astype({'long':'float64', 'lat':'float64', 'merchant_long':'float64', 'merchant_lat':'float64'})\n",
    "# ensure that the date column is a datetime object\n",
    "data_clean['date'] = pd.to_datetime(data_clean['date'], format= '%d/%m/%y')"
   ]
  },
  {
   "cell_type": "code",
   "execution_count": 12,
   "metadata": {},
   "outputs": [],
   "source": [
    "# Sort data by date\n",
    "data_clean.sort_values(by=['date'], inplace=True)"
   ]
  },
  {
   "source": [
    "## Insights into the dataset"
   ],
   "cell_type": "markdown",
   "metadata": {}
  },
  {
   "cell_type": "code",
   "execution_count": 32,
   "metadata": {
    "tags": []
   },
   "outputs": [
    {
     "output_type": "stream",
     "name": "stdout",
     "text": [
      "The average transaction amount is $187.93 and the median transaction amount is $29.00\n\nThe average number of transaction per person over the 3 month period is 120.43 and the median number of transactions is 109.50\n\nThe average balance in an ANZ account across the 3 month period is $14704.20 and the median balance is $6432.01\n"
     ]
    }
   ],
   "source": [
    "# Average transaction amount\n",
    "print('The average transaction amount is ${:.2f} and the median transaction amount is ${:.2f}'.format((data_clean['amount'].mean()), data_clean['amount'].median()))\n",
    "\n",
    "print() # creating a space in output\n",
    "# Average number of transaction per customer over the 3 month period\n",
    "print('The average number of transaction per person over the 3 month period is {:.2f} and the median number of transactions is {:.2f}'.format(data_clean['customer_id'].value_counts().mean(), data_clean['customer_id'].value_counts().median()))\n",
    "\n",
    "print() # creating a space in output\n",
    "# Average balance in an ANZ account across the 3 month period\n",
    "print('The average balance in an ANZ account across the 3 month period is ${:.2f} and the median balance is ${:.2f}'.format(data_clean['balance'].mean(), data_clean['balance'].median()))"
   ]
  },
  {
   "source": [
    "The above output is showing us that the average transaction amount has been greatly affected by outliers, with an average transaction amount of *$187 and a median value of *$29. \n",
    "\n",
    "The code above also shows that there is a relatively small difference in the average and median number of transactions per customer across the 3 month period, thus we can conclude that the number of transactions per customer was evenly distributed in this time period.\n",
    "\n",
    "The average balance in an ANZ account at the time of transaction also differed largely compared to the median balance in an account. The average balance across the time period was $14707, and the median balance was $6432, indicating the presence of outliers in the dataset (ie. accounts with large balances)."
   ],
   "cell_type": "markdown",
   "metadata": {}
  },
  {
   "cell_type": "code",
   "execution_count": null,
   "metadata": {},
   "outputs": [],
   "source": []
  }
 ]
}